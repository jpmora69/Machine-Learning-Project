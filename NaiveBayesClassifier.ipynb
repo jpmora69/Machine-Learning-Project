{
 "cells": [
  {
   "cell_type": "code",
   "execution_count": 339,
   "metadata": {
    "collapsed": false
   },
   "outputs": [],
   "source": [
    "import pandas as pd\n",
    "import numpy as np\n",
    "import matplotlib.pyplot as plt\n",
    "import random\n",
    "import operator\n",
    "from sklearn import preprocessing\n",
    "from sklearn.naive_bayes import MultinomialNB\n",
    "from sklearn.cross_validation import train_test_split\n",
    "from sklearn.metrics import roc_auc_score\n",
    "import seaborn as sns\n",
    "from sklearn import tree\n",
    "from sklearn.tree import DecisionTreeClassifier\n",
    "from sklearn.tree import export_graphviz\n",
    "%matplotlib inline"
   ]
  },
  {
   "cell_type": "code",
   "execution_count": 298,
   "metadata": {
    "collapsed": false
   },
   "outputs": [
    {
     "data": {
      "text/plain": [
       "count    14011.000000\n",
       "mean        10.311541\n",
       "std          5.498706\n",
       "min         -1.000000\n",
       "25%          7.000000\n",
       "50%         10.000000\n",
       "75%         12.000000\n",
       "max         62.000000\n",
       "Name: SCORE, dtype: float64"
      ]
     },
     "execution_count": 298,
     "metadata": {},
     "output_type": "execute_result"
    }
   ],
   "source": [
    "data = pd.read_csv('food_final.csv', index_col=0)\n",
    "data = data[['rating', 'stats.checkinsCount', 'price.tier', 'SCORE']]\n",
    "data.SCORE.describe()"
   ]
  },
  {
   "cell_type": "code",
   "execution_count": 299,
   "metadata": {
    "collapsed": false
   },
   "outputs": [
    {
     "name": "stderr",
     "output_type": "stream",
     "text": [
      "/Users/eliseowang/anaconda/lib/python2.7/site-packages/ipykernel/__main__.py:3: SettingWithCopyWarning: \n",
      "A value is trying to be set on a copy of a slice from a DataFrame\n",
      "\n",
      "See the caveats in the documentation: http://pandas.pydata.org/pandas-docs/stable/indexing.html#indexing-view-versus-copy\n",
      "  app.launch_new_instance()\n",
      "/Users/eliseowang/anaconda/lib/python2.7/site-packages/ipykernel/__main__.py:16: SettingWithCopyWarning: \n",
      "A value is trying to be set on a copy of a slice from a DataFrame.\n",
      "Try using .loc[row_indexer,col_indexer] = value instead\n",
      "\n",
      "See the caveats in the documentation: http://pandas.pydata.org/pandas-docs/stable/indexing.html#indexing-view-versus-copy\n"
     ]
    }
   ],
   "source": [
    "# data cleaning, drop the NAs\n",
    "data_clean = data[data.SCORE >= 0]\n",
    "data_clean.dropna(inplace=True)\n",
    "data_final = data_clean[['SCORE', 'rating',\n",
    "                         'stats.checkinsCount',\n",
    "                         'price.tier']]\n",
    "# make the category labels\n",
    "def f(x):\n",
    "    if x < 14:\n",
    "        return 1\n",
    "    elif (x >= 14) & (x < 28):\n",
    "        return 2\n",
    "    else:\n",
    "        return 3\n",
    "\n",
    "data_final['label'] = data_clean.SCORE.apply(lambda x: f(x))\n",
    "data_final.reset_index(drop=True, inplace=True)\n",
    "data_final.drop(['SCORE'], axis=1, inplace=True)\n",
    "data_final['price'] = pd.Series(data_final['price.tier'], dtype=str)"
   ]
  },
  {
   "cell_type": "code",
   "execution_count": 300,
   "metadata": {
    "collapsed": false
   },
   "outputs": [],
   "source": [
    "data_final = pd.get_dummies(data_final)"
   ]
  },
  {
   "cell_type": "code",
   "execution_count": 301,
   "metadata": {
    "collapsed": false
   },
   "outputs": [],
   "source": [
    "cols = data_final.columns"
   ]
  },
  {
   "cell_type": "code",
   "execution_count": 302,
   "metadata": {
    "collapsed": false
   },
   "outputs": [],
   "source": [
    "cols = cols.drop('label')"
   ]
  },
  {
   "cell_type": "code",
   "execution_count": 303,
   "metadata": {
    "collapsed": false
   },
   "outputs": [],
   "source": [
    "# normalize the data (scale 0 - 1)\n",
    "y = data_final['label']\n",
    "data_final.drop('label', axis=1, inplace=True)\n",
    "min_max_scaler = preprocessing.MinMaxScaler()\n",
    "X = min_max_scaler.fit_transform(data_final)\n",
    "X = pd.DataFrame(X, columns = cols)"
   ]
  },
  {
   "cell_type": "code",
   "execution_count": null,
   "metadata": {
    "collapsed": false
   },
   "outputs": [],
   "source": []
  },
  {
   "cell_type": "code",
   "execution_count": 304,
   "metadata": {
    "collapsed": false
   },
   "outputs": [],
   "source": [
    "# create a normalized dataframe\n",
    "# data_norm = pd.DataFrame(X, columns=data_final.columns[0:3])\n",
    "# data_norm['label'] = y\n",
    "# data_norm.head(5)"
   ]
  },
  {
   "cell_type": "code",
   "execution_count": 305,
   "metadata": {
    "collapsed": false
   },
   "outputs": [
    {
     "data": {
      "image/png": "[encoded data removed]",
      "text/plain": [
       "<matplotlib.figure.Figure at 0x11ed07690>"
      ]
     },
     "metadata": {},
     "output_type": "display_data"
    }
   ],
   "source": [
    "# boxplot of checkin counts to see how the data is distributed and if there is any outlier\n",
    "fig = plt.figure(1, figsize=(4,6))\n",
    "ax = fig.add_subplot(111)\n",
    "bp = ax.boxplot(x=data_final['stats.checkinsCount'], showfliers=True)\n",
    "for flier in bp['fliers']:\n",
    "    flier.set(marker = 'o', c='#7570b3', alpha=0.8)\n",
    "plt.show()"
   ]
  },
  {
   "cell_type": "code",
   "execution_count": null,
   "metadata": {
    "collapsed": false
   },
   "outputs": [],
   "source": []
  },
  {
   "cell_type": "code",
   "execution_count": 306,
   "metadata": {
    "collapsed": false
   },
   "outputs": [],
   "source": [
    "# split the data into train, validation and test sets\n",
    "data_train, data_test = train_test_split(X, test_size=0.3, random_state=2016)\n",
    "data_train, data_valid = train_test_split(data_train, test_size=0.4, random_state=2016)\n",
    "X_train = data_train\n",
    "y_train = y.loc[data_train.index]\n",
    "X_valid = data_valid\n",
    "y_valid = y.loc[data_valid.index]\n",
    "X_test = data_test\n",
    "y_test = y.loc[data_test.index]"
   ]
  },
  {
   "cell_type": "code",
   "execution_count": 353,
   "metadata": {
    "collapsed": false
   },
   "outputs": [
    {
     "data": {
      "text/plain": [
       "array([[1, 0, 0],\n",
       "       [1, 0, 0],\n",
       "       [1, 0, 0],\n",
       "       ..., \n",
       "       [1, 0, 0],\n",
       "       [1, 0, 0],\n",
       "       [1, 0, 0]])"
      ]
     },
     "execution_count": 353,
     "metadata": {},
     "output_type": "execute_result"
    }
   ],
   "source": []
  },
  {
   "cell_type": "code",
   "execution_count": 307,
   "metadata": {
    "collapsed": false,
    "scrolled": false
   },
   "outputs": [
    {
     "data": {
      "text/plain": [
       "0.8943067284118769"
      ]
     },
     "execution_count": 307,
     "metadata": {},
     "output_type": "execute_result"
    }
   ],
   "source": [
    "cls = MultinomialNB(alpha=0.5, class_prior=None, fit_prior=True)\n",
    "cls.fit(X, y)\n",
    "res = cls.predict(X_valid)\n",
    "1 - (1.0*np.count_nonzero(res - y_valid) / len(res))"
   ]
  },
  {
   "cell_type": "code",
   "execution_count": 308,
   "metadata": {
    "collapsed": false
   },
   "outputs": [],
   "source": [
    "def NBclassifier(X, y, X_valid, y_valid, alpha, class_prior, fit_prior):\n",
    "    cls = MultinomialNB(alpha=0.5, class_prior=None, fit_prior=True)\n",
    "    cls.fit(X, y)\n",
    "    res = cls.predict(X_valid)\n",
    "    accu = 1 - (1.0*np.count_nonzero(res - y_valid) / len(res))\n",
    "    return accu"
   ]
  },
  {
   "cell_type": "code",
   "execution_count": 309,
   "metadata": {
    "collapsed": false
   },
   "outputs": [],
   "source": [
    "alpha = [pow(10, i) for i in np.linspace(-5, 5, 300)]\n",
    "res = {}\n",
    "for i in alpha:\n",
    "    res[i] = NBclassifier(X_train, y_train,\n",
    "                          X_valid, y_valid,\n",
    "                          alpha=i, class_prior=None,\n",
    "                          fit_prior=None)"
   ]
  },
  {
   "cell_type": "code",
   "execution_count": 310,
   "metadata": {
    "collapsed": false
   },
   "outputs": [
    {
     "data": {
      "text/plain": [
       "<matplotlib.text.Text at 0x14edab410>"
      ]
     },
     "execution_count": 310,
     "metadata": {},
     "output_type": "execute_result"
    },
    {
     "data": {
      "image/png": "[encoded data removed]",
      "text/plain": [
       "<matplotlib.figure.Figure at 0x13f750050>"
      ]
     },
     "metadata": {},
     "output_type": "display_data"
    }
   ],
   "source": [
    "fig, ax = plt.subplots()\n",
    "ax.scatter(x=res.keys(), y=res.values())\n",
    "ax.set_xscale('log')\n",
    "ax.set_xlim(left=pow(10, -5), right=pow(10,5))\n",
    "ax.set_ylim(bottom=0, top=1)\n",
    "ax.set_title('Accuracy rate the hyperparameter alpha', fontsize=15)\n",
    "ax.set_xlabel('Alpha Value', fontsize=13)\n",
    "ax.set_ylabel('Accuracy Rate of the MulticlassNB', fontsize=13)"
   ]
  },
  {
   "cell_type": "markdown",
   "metadata": {},
   "source": [
    "# The problem here is that the naive bayes classifier has classified all the restaurants as A-graded. It's probably due to the fact that the majority of the results are labeled A in the first place."
   ]
  },
  {
   "cell_type": "markdown",
   "metadata": {},
   "source": [
    "# I will try a decision tree instead"
   ]
  },
  {
   "cell_type": "code",
   "execution_count": 311,
   "metadata": {
    "collapsed": false
   },
   "outputs": [],
   "source": [
    "# X = data_final[['rating', 'stats.checkinsCount', 'price.tier']]\n",
    "# X.reset_index(inplace=True)\n",
    "# y = data_final['label']\n",
    "# y = preprocessing.label_binarize(y, classes=[1, 2, 3])\n",
    "# X_train, X_test = train_test_split(X, test_size=0.3, random_state=2016)\n",
    "# y_train = y[X_train.index]\n",
    "# y_test = y[X_test.index]"
   ]
  },
  {
   "cell_type": "code",
   "execution_count": 323,
   "metadata": {
    "collapsed": false
   },
   "outputs": [],
   "source": [
    "data_train.shape[0], data_valid.shape[0]\n",
    "y_prep = preprocessing.label_binarize(y, classes=[1, 2, 3])"
   ]
  },
  {
   "cell_type": "code",
   "execution_count": null,
   "metadata": {
    "collapsed": false
   },
   "outputs": [],
   "source": []
  },
  {
   "cell_type": "code",
   "execution_count": 367,
   "metadata": {
    "collapsed": false
   },
   "outputs": [],
   "source": [
    "# X_train = pd.concat([data_train, data_valid], axis=0)\n",
    "y_train = y_prep[data_train.index]\n",
    "y_valid = y_prep[data_valid.index]\n",
    "y_test = y_prep[X_test.index]"
   ]
  },
  {
   "cell_type": "code",
   "execution_count": 383,
   "metadata": {
    "collapsed": false
   },
   "outputs": [],
   "source": [
    "y_better_train = np.concatenate([y_train, y_valid], axis=0)"
   ]
  },
  {
   "cell_type": "code",
   "execution_count": 327,
   "metadata": {
    "collapsed": false
   },
   "outputs": [],
   "source": [
    "random.seed(2016)\n",
    "dtm = tree.DecisionTreeClassifier()\n",
    "dtm = dtm.fit(X_train, y_train)\n",
    "val = dtm.predict(X_test)"
   ]
  },
  {
   "cell_type": "code",
   "execution_count": 328,
   "metadata": {
    "collapsed": false
   },
   "outputs": [
    {
     "name": "stdout",
     "output_type": "stream",
     "text": [
      "The accuracy for this vanila model is 0.7855.\n",
      "The AUC score is 0.5169\n"
     ]
    }
   ],
   "source": [
    "# calculate accuracy\n",
    "ls = []\n",
    "for i in zip(y_test, val):\n",
    "    ls.append(np.array_equal(i[0], i[1]))\n",
    "accu = ((1.0 * np.array(ls)).sum()) / len(ls)\n",
    "print 'The accuracy for this vanila model is {0:.4f}.'.format(accu)\n",
    "print 'The AUC score is {0:.4f}'.format(roc_auc_score(y_test, val))"
   ]
  },
  {
   "cell_type": "code",
   "execution_count": 345,
   "metadata": {
    "collapsed": false
   },
   "outputs": [
    {
     "name": "stdout",
     "output_type": "stream",
     "text": [
      "('stats.checkinsCount', 0.63620243570945234)\n",
      "('rating', 0.30300619410180907)\n",
      "('price_2.0', 0.01938978043396317)\n",
      "('price_3.0', 0.017426891657130225)\n",
      "('price.tier', 0.013818628787529584)\n",
      "('price_1.0', 0.010156069310115614)\n",
      "('price_4.0', 0.0)\n"
     ]
    }
   ],
   "source": [
    "feature_importances = list(dtm.feature_importances_)\n",
    "feature_dic = {}\n",
    "for i, j in zip(X_test.columns, feature_importances):\n",
    "    feature_dic[i] = j\n",
    "fl = sorted(feature_dic.items(), key=operator.itemgetter(1), reverse=True)\n",
    "for i in fl:\n",
    "    print i"
   ]
  },
  {
   "cell_type": "code",
   "execution_count": 370,
   "metadata": {
    "collapsed": false
   },
   "outputs": [],
   "source": [
    "leafNum = []\n",
    "accu = []\n",
    "for i in range(2, 101):\n",
    "    dtm = DecisionTreeClassifier(max_leaf_nodes=i)\n",
    "    dtm.fit(data_train, y_train)\n",
    "    leafNum.append(roc_auc_score(y_valid, dtm.predict(X_valid)))\n",
    "    ls = []\n",
    "    for j in zip(y_valid, dtm.predict(X_valid)):\n",
    "        ls.append(np.array_equal(j[0], j[1]))\n",
    "    accu.append((1.0 * np.array(ls)).sum() / len(ls))"
   ]
  },
  {
   "cell_type": "code",
   "execution_count": null,
   "metadata": {
    "collapsed": false
   },
   "outputs": [],
   "source": []
  },
  {
   "cell_type": "code",
   "execution_count": 371,
   "metadata": {
    "collapsed": false
   },
   "outputs": [
    {
     "data": {
      "text/plain": [
       "<matplotlib.text.Text at 0x141eaa650>"
      ]
     },
     "execution_count": 371,
     "metadata": {},
     "output_type": "execute_result"
    },
    {
     "data": {
      "image/png": "[encoded data removed]",
      "text/plain": [
       "<matplotlib.figure.Figure at 0x14118b310>"
      ]
     },
     "metadata": {},
     "output_type": "display_data"
    }
   ],
   "source": [
    "fig, ax = plt.subplots(figsize=(7,7))\n",
    "ax.plot(range(2, 101), leafNum)\n",
    "# for i in x_time.index:\n",
    "#     ax.annotate('period {0}'.format(i), xy = (x_time[i]+0.001, y_time[i]), color='#FF00FF')\n",
    "ax.set_ylim(bottom=0.45, top=0.55)\n",
    "ax.set_title('Max leaf node num vs. AUC score', fontsize=18)\n",
    "ax.set_xlabel('Max Leaf node Number', fontsize=13)\n",
    "ax.set_ylabel('AUC score', fontsize=13)"
   ]
  },
  {
   "cell_type": "code",
   "execution_count": 372,
   "metadata": {
    "collapsed": false
   },
   "outputs": [
    {
     "data": {
      "text/plain": [
       "<matplotlib.text.Text at 0x15d6a5950>"
      ]
     },
     "execution_count": 372,
     "metadata": {},
     "output_type": "execute_result"
    },
    {
     "data": {
      "image/png": "[encoded data removed]",
      "text/plain": [
       "<matplotlib.figure.Figure at 0x13c4fded0>"
      ]
     },
     "metadata": {},
     "output_type": "display_data"
    }
   ],
   "source": [
    "fig, ax = plt.subplots(figsize=(7,7))\n",
    "ax.plot(range(2, 101), accu)\n",
    "# for i in x_time.index:\n",
    "#     ax.annotate('period {0}'.format(i), xy = (x_time[i]+0.001, y_time[i]), color='#FF00FF')\n",
    "ax.set_ylim(bottom=0.85, top=0.9)\n",
    "ax.set_title('max leaf node num vs. accuracy rate', fontsize=18)\n",
    "ax.set_xlabel('max Leaf node Number', fontsize=13)\n",
    "ax.set_ylabel('accuracy rate', fontsize=13)"
   ]
  },
  {
   "cell_type": "code",
   "execution_count": null,
   "metadata": {
    "collapsed": false
   },
   "outputs": [],
   "source": []
  },
  {
   "cell_type": "code",
   "execution_count": 384,
   "metadata": {
    "collapsed": false
   },
   "outputs": [
    {
     "data": {
      "text/plain": [
       "array([[ 1.,  0.,  0.],\n",
       "       [ 1.,  0.,  0.],\n",
       "       [ 1.,  0.,  0.],\n",
       "       ..., \n",
       "       [ 1.,  0.,  0.],\n",
       "       [ 1.,  0.,  0.],\n",
       "       [ 1.,  0.,  0.]])"
      ]
     },
     "execution_count": 384,
     "metadata": {},
     "output_type": "execute_result"
    }
   ],
   "source": [
    "dtm = DecisionTreeClassifier(max_leaf_nodes=2)\n",
    "dtm.fit(X_train, y_better_train)\n",
    "dtm.predict(X_test)"
   ]
  },
  {
   "cell_type": "code",
   "execution_count": 385,
   "metadata": {
    "collapsed": false
   },
   "outputs": [
    {
     "data": {
      "text/plain": [
       "0.5"
      ]
     },
     "execution_count": 385,
     "metadata": {},
     "output_type": "execute_result"
    }
   ],
   "source": [
    "print roc_auc_score(y_test, dtm.predict(X_test)), "
   ]
  },
  {
   "cell_type": "code",
   "execution_count": 386,
   "metadata": {
    "collapsed": false
   },
   "outputs": [
    {
     "name": "stdout",
     "output_type": "stream",
     "text": [
      "0.886883579054\n"
     ]
    }
   ],
   "source": [
    "ls = []\n",
    "for j in zip(y_test, dtm.predict(X_test)):\n",
    "    ls.append(np.array_equal(j[0], j[1]))\n",
    "print (1.0 * np.array(ls)).sum() / len(ls)"
   ]
  },
  {
   "cell_type": "code",
   "execution_count": 389,
   "metadata": {
    "collapsed": false
   },
   "outputs": [
    {
     "name": "stdout",
     "output_type": "stream",
     "text": [
      "[ 0.  1.  0.  0.  0.  0.  0.]\n"
     ]
    }
   ],
   "source": [
    "print dtm.feature_importances_"
   ]
  },
  {
   "cell_type": "code",
   "execution_count": 388,
   "metadata": {
    "collapsed": false
   },
   "outputs": [
    {
     "data": {
      "text/plain": [
       "Index([u'rating', u'stats.checkinsCount', u'price.tier', u'SCORE'], dtype='object')"
      ]
     },
     "execution_count": 388,
     "metadata": {},
     "output_type": "execute_result"
    }
   ],
   "source": [
    "data.columns"
   ]
  },
  {
   "cell_type": "code",
   "execution_count": 15,
   "metadata": {
    "collapsed": false
   },
   "outputs": [],
   "source": [
    "export_graphviz(dtm, out_file='decisionTree.dot')"
   ]
  },
  {
   "cell_type": "code",
   "execution_count": 16,
   "metadata": {
    "collapsed": true
   },
   "outputs": [],
   "source": [
    "# split training, validation and test data\n",
    "# random.seed(2016)\n",
    "# cross_validation.train_test_split()\n",
    "# ind = stats.bernoulli.rvs(p=0.7, size=len(data_final.index))\n",
    "# train = data_norm[ind == 1]\n",
    "# test = data_norm[ind == 0]\n",
    "# valid = "
   ]
  },
  {
   "cell_type": "code",
   "execution_count": 44,
   "metadata": {
    "collapsed": false
   },
   "outputs": [],
   "source": [
    "# from IPython.display import Image\n",
    "# dot_data = StringIO()\n",
    "# export_graphviz(dtm, out_file=dot_data,\n",
    "#                 feature_names=X_train.columns)\n",
    "# graph = pydot.graph_from_dot_data(dot_data.getvalue())\n",
    "# Image(graph.create_png())"
   ]
  },
  {
   "cell_type": "code",
   "execution_count": null,
   "metadata": {
    "collapsed": false
   },
   "outputs": [],
   "source": []
  },
  {
   "cell_type": "code",
   "execution_count": null,
   "metadata": {
    "collapsed": false
   },
   "outputs": [],
   "source": []
  },
  {
   "cell_type": "code",
   "execution_count": null,
   "metadata": {
    "collapsed": false
   },
   "outputs": [],
   "source": []
  },
  {
   "cell_type": "code",
   "execution_count": null,
   "metadata": {
    "collapsed": false
   },
   "outputs": [],
   "source": []
  },
  {
   "cell_type": "code",
   "execution_count": null,
   "metadata": {
    "collapsed": true
   },
   "outputs": [],
   "source": []
  }
 ],
 "metadata": {
  "kernelspec": {
   "display_name": "Python 2",
   "language": "python",
   "name": "python2"
  },
  "language_info": {
   "codemirror_mode": {
    "name": "ipython",
    "version": 2
   },
   "file_extension": ".py",
   "mimetype": "text/x-python",
   "name": "python",
   "nbconvert_exporter": "python",
   "pygments_lexer": "ipython2",
   "version": "2.7.11"
  }
 },
 "nbformat": 4,
 "nbformat_minor": 0
}
